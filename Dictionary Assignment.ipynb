{
 "cells": [
  {
   "cell_type": "code",
   "execution_count": 1,
   "id": "db6e0af8",
   "metadata": {},
   "outputs": [
    {
     "data": {
      "text/plain": [
       "{'fruit1': 'apple', 'fruit2': 'mango', 'fruit3': 'orange', 'fruit4': 'guvva'}"
      ]
     },
     "execution_count": 1,
     "metadata": {},
     "output_type": "execute_result"
    }
   ],
   "source": [
    "dict={'fruit1':'apple','fruit2':'mango','fruit3':\"orange\",'fruit4':\"banana\",'fruit4':'guvva'}\n",
    "dict"
   ]
  },
  {
   "cell_type": "code",
   "execution_count": 2,
   "id": "b3968fcf",
   "metadata": {},
   "outputs": [
    {
     "data": {
      "text/plain": [
       "dict_keys(['fruit1', 'fruit2', 'fruit3', 'fruit4'])"
      ]
     },
     "execution_count": 2,
     "metadata": {},
     "output_type": "execute_result"
    }
   ],
   "source": [
    "##Accept the value from the dictionary with the help of KEY(), Values(), Item(),\n",
    "dict.keys()"
   ]
  },
  {
   "cell_type": "code",
   "execution_count": 3,
   "id": "612ace1a",
   "metadata": {},
   "outputs": [
    {
     "data": {
      "text/plain": [
       "dict_values(['apple', 'mango', 'orange', 'guvva'])"
      ]
     },
     "execution_count": 3,
     "metadata": {},
     "output_type": "execute_result"
    }
   ],
   "source": [
    "dict.values()"
   ]
  },
  {
   "cell_type": "code",
   "execution_count": 5,
   "id": "84eb0f5b",
   "metadata": {},
   "outputs": [
    {
     "data": {
      "text/plain": [
       "dict_items([('fruit1', 'apple'), ('fruit2', 'mango'), ('fruit3', 'orange'), ('fruit4', 'guvva')])"
      ]
     },
     "execution_count": 5,
     "metadata": {},
     "output_type": "execute_result"
    }
   ],
   "source": [
    "dict.items()"
   ]
  },
  {
   "cell_type": "code",
   "execution_count": 6,
   "id": "aecb9b82",
   "metadata": {},
   "outputs": [
    {
     "name": "stdout",
     "output_type": "stream",
     "text": [
      "{'fruit1': 'apple', 'fruit2': 'mango', 'fruit3': 'orange', 'fruit4': 'guvva', 'fruit5': 'strwbeery'}\n"
     ]
    }
   ],
   "source": [
    "#Update method is mainly used for upadate kays and value from dictionary\n",
    "dict.update({'fruit5':'strwbeery'})\n",
    "print(dict)"
   ]
  },
  {
   "cell_type": "code",
   "execution_count": 7,
   "id": "a05021a6",
   "metadata": {},
   "outputs": [
    {
     "name": "stdout",
     "output_type": "stream",
     "text": [
      "{'fruit1': 'geekforgeeks', 'fruit2': 'mango', 'fruit3': 'orange', 'fruit4': 'guvva', 'fruit5': 'strwbeery'}\n"
     ]
    }
   ],
   "source": [
    "dict['fruit1']=\"geekforgeeks\"\n",
    "print(dict)"
   ]
  },
  {
   "cell_type": "code",
   "execution_count": 9,
   "id": "4686c366",
   "metadata": {},
   "outputs": [
    {
     "name": "stdout",
     "output_type": "stream",
     "text": [
      "{'fruit2': 'mango', 'fruit3': 'orange', 'fruit4': 'guvva', 'fruit5': 'strwbeery'}\n"
     ]
    }
   ],
   "source": [
    "dict.pop('fruit1')\n",
    "print(dict)"
   ]
  },
  {
   "cell_type": "code",
   "execution_count": null,
   "id": "3bd5554c",
   "metadata": {},
   "outputs": [],
   "source": [
    "dict.clear()\n",
    "print(dict)"
   ]
  }
 ],
 "metadata": {
  "kernelspec": {
   "display_name": "Python 3 (ipykernel)",
   "language": "python",
   "name": "python3"
  },
  "language_info": {
   "codemirror_mode": {
    "name": "ipython",
    "version": 3
   },
   "file_extension": ".py",
   "mimetype": "text/x-python",
   "name": "python",
   "nbconvert_exporter": "python",
   "pygments_lexer": "ipython3",
   "version": "3.10.9"
  }
 },
 "nbformat": 4,
 "nbformat_minor": 5
}
