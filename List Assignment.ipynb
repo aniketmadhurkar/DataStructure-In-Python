{
 "cells": [
  {
   "cell_type": "code",
   "execution_count": 2,
   "id": "12a99304",
   "metadata": {},
   "outputs": [
    {
     "name": "stdout",
     "output_type": "stream",
     "text": [
      "[1, 2, 3, 4, 5, 'geeksforgeeks', 'python', 12.3, 40, 90]\n"
     ]
    }
   ],
   "source": [
    "list=[1,2,3,4,5,'geeksforgeeks','python',12.30,40,90]\n",
    "print(list)"
   ]
  },
  {
   "cell_type": "markdown",
   "id": "bf26ce92",
   "metadata": {},
   "source": [
    "# list Indexing\n"
   ]
  },
  {
   "cell_type": "code",
   "execution_count": 3,
   "id": "c807d900",
   "metadata": {},
   "outputs": [
    {
     "data": {
      "text/plain": [
       "'geeksforgeeks'"
      ]
     },
     "execution_count": 3,
     "metadata": {},
     "output_type": "execute_result"
    }
   ],
   "source": [
    "list[5]"
   ]
  },
  {
   "cell_type": "code",
   "execution_count": 4,
   "id": "e58480fa",
   "metadata": {},
   "outputs": [
    {
     "data": {
      "text/plain": [
       "90"
      ]
     },
     "execution_count": 4,
     "metadata": {},
     "output_type": "execute_result"
    }
   ],
   "source": [
    "list[-1]"
   ]
  },
  {
   "cell_type": "code",
   "execution_count": 5,
   "id": "941a7eba",
   "metadata": {},
   "outputs": [
    {
     "data": {
      "text/plain": [
       "[90, 40, 12.3, 'python', 'geeksforgeeks', 5, 4, 3, 2, 1]"
      ]
     },
     "execution_count": 5,
     "metadata": {},
     "output_type": "execute_result"
    }
   ],
   "source": [
    "list[::-1]"
   ]
  },
  {
   "cell_type": "markdown",
   "id": "eba14986",
   "metadata": {},
   "source": [
    "# list sliceing"
   ]
  },
  {
   "cell_type": "code",
   "execution_count": 6,
   "id": "dc4fa674",
   "metadata": {},
   "outputs": [
    {
     "data": {
      "text/plain": [
       "[2, 3, 4, 5, 'geeksforgeeks', 'python']"
      ]
     },
     "execution_count": 6,
     "metadata": {},
     "output_type": "execute_result"
    }
   ],
   "source": [
    "##list[start:end:step value]\n",
    "list[1:7]"
   ]
  },
  {
   "cell_type": "code",
   "execution_count": 8,
   "id": "4e3ea44e",
   "metadata": {},
   "outputs": [
    {
     "data": {
      "text/plain": [
       "[5, 'python']"
      ]
     },
     "execution_count": 8,
     "metadata": {},
     "output_type": "execute_result"
    }
   ],
   "source": [
    "list[4:7:2]"
   ]
  },
  {
   "cell_type": "markdown",
   "id": "97960987",
   "metadata": {},
   "source": [
    "# List append method"
   ]
  },
  {
   "cell_type": "code",
   "execution_count": 10,
   "id": "d8555144",
   "metadata": {},
   "outputs": [
    {
     "name": "stdout",
     "output_type": "stream",
     "text": [
      "[1, 2, 3, 4, 5, 'geeksforgeeks', 'python', 12.3, 40, 90, 'data']\n"
     ]
    }
   ],
   "source": [
    "# to add element end of the list\n",
    "list.append(\"data\")\n",
    "print(list)"
   ]
  },
  {
   "cell_type": "markdown",
   "id": "f8e3b988",
   "metadata": {},
   "source": [
    "# list insert method\n"
   ]
  },
  {
   "cell_type": "code",
   "execution_count": 11,
   "id": "91d9af18",
   "metadata": {},
   "outputs": [
    {
     "name": "stdout",
     "output_type": "stream",
     "text": [
      "[1, 2, 3, 4, 'apple', 5, 'geeksforgeeks', 'python', 12.3, 40, 90, 'data']\n"
     ]
    }
   ],
   "source": [
    "#to add element specfic index location\n",
    "list.insert(4,'apple')\n",
    "print(list)"
   ]
  },
  {
   "cell_type": "markdown",
   "id": "922da3d6",
   "metadata": {},
   "source": [
    "# list extend method\n"
   ]
  },
  {
   "cell_type": "code",
   "execution_count": 14,
   "id": "a36d8ee8",
   "metadata": {},
   "outputs": [
    {
     "name": "stdout",
     "output_type": "stream",
     "text": [
      "[1, 2, 3, 4, 5, 6, 12.1, 25.3, 45.65, 78.2]\n"
     ]
    }
   ],
   "source": [
    "#to add element after completing the first list\n",
    "list1=[1,2,3,4,5,6]\n",
    "list2=[12.10,25.30,45.65,78.20]\n",
    "list1.extend(list2)\n",
    "print(list1)"
   ]
  },
  {
   "cell_type": "code",
   "execution_count": 15,
   "id": "b9f7609b",
   "metadata": {},
   "outputs": [
    {
     "data": {
      "text/plain": [
       "[1, 2, 3, 4, 'apple', 5, 'geeksforgeeks', 'python', 12.3, 40, 90, 'data']"
      ]
     },
     "execution_count": 15,
     "metadata": {},
     "output_type": "execute_result"
    }
   ],
   "source": [
    "list[:]"
   ]
  },
  {
   "cell_type": "markdown",
   "id": "d295384c",
   "metadata": {},
   "source": [
    "# list pop method"
   ]
  },
  {
   "cell_type": "code",
   "execution_count": 16,
   "id": "b74ebe32",
   "metadata": {},
   "outputs": [
    {
     "name": "stdout",
     "output_type": "stream",
     "text": [
      "[1, 2, 3, 4, 'apple', 5, 'geeksforgeeks', 'python', 12.3, 40, 90]\n"
     ]
    }
   ],
   "source": [
    "## del list element from the list and given index element.\n",
    "list.pop()\n",
    "print(list)"
   ]
  },
  {
   "cell_type": "code",
   "execution_count": 17,
   "id": "2b6ca421",
   "metadata": {},
   "outputs": [
    {
     "name": "stdout",
     "output_type": "stream",
     "text": [
      "[1, 2, 3, 4, 'apple', 'geeksforgeeks', 'python', 12.3, 40, 90]\n"
     ]
    }
   ],
   "source": [
    "#delete specfic index location value\n",
    "list.pop(5)\n",
    "print(list)"
   ]
  },
  {
   "cell_type": "markdown",
   "id": "d3e6711a",
   "metadata": {},
   "source": [
    "# list Remove Method"
   ]
  },
  {
   "cell_type": "code",
   "execution_count": 20,
   "id": "76ed919c",
   "metadata": {},
   "outputs": [
    {
     "name": "stdout",
     "output_type": "stream",
     "text": [
      "['apple', 'cherry']\n"
     ]
    }
   ],
   "source": [
    "## delete Specfic value from the list. \n",
    "fruits = ['apple', 'banana', 'cherry']\n",
    "fruits.remove(\"banana\")\n",
    "print(fruits)"
   ]
  },
  {
   "cell_type": "markdown",
   "id": "4d7c58ad",
   "metadata": {},
   "source": [
    "# list delete method"
   ]
  },
  {
   "cell_type": "code",
   "execution_count": 28,
   "id": "06e5fb41",
   "metadata": {},
   "outputs": [
    {
     "name": "stdout",
     "output_type": "stream",
     "text": [
      "\f",
      "\n"
     ]
    }
   ],
   "source": [
    "clear fruits()\n"
   ]
  },
  {
   "cell_type": "code",
   "execution_count": null,
   "id": "0f8fe492",
   "metadata": {},
   "outputs": [],
   "source": [
    "# Python3 program to swap first\n",
    "# and last element of a list\n",
    "# Swap function\n",
    "def swapList(newList):\n",
    "\tsize = len(newList)\n",
    "\t\n",
    "\t# Swapping \n",
    "\ttemp = newList[0]\n",
    "\tnewList[0] = newList[size - 1]\n",
    "\tnewList[size - 1] = temp\n",
    "\t\n",
    "\treturn newList\n",
    "\t\n",
    "# Driver code\n",
    "newList = [12, 35, 9, 56, 24]\n",
    "\n",
    "print(swapList(newList))\n"
   ]
  },
  {
   "cell_type": "code",
   "execution_count": 29,
   "id": "06b23e82",
   "metadata": {},
   "outputs": [
    {
     "name": "stdout",
     "output_type": "stream",
     "text": [
      "[60, 30, 45, 12]\n"
     ]
    }
   ],
   "source": [
    "##swap first and last element in the given list.\n",
    "def swaplist(newlist):\n",
    "    size=len(newlist)\n",
    "    temp=newlist[0]\n",
    "    newlist[0]=newlist[size-1]\n",
    "    newlist[size-1]=temp\n",
    "    return newlist\n",
    "newlist=[12,30,45,60]\n",
    "print(swaplist(newlist))"
   ]
  },
  {
   "cell_type": "code",
   "execution_count": 32,
   "id": "a8d3bd6d",
   "metadata": {},
   "outputs": [
    {
     "name": "stdout",
     "output_type": "stream",
     "text": [
      "[24, 35, 9, 56, 12]\n"
     ]
    }
   ],
   "source": [
    "def swapList(newList):\n",
    "     \n",
    "    newList[0], newList[-1] = newList[-1], newList[0]\n",
    " \n",
    "    return newList\n",
    "     \n",
    "newList = [12, 35, 9, 56, 24]\n",
    "print(swapList(newList))"
   ]
  },
  {
   "cell_type": "code",
   "execution_count": null,
   "id": "39cd9e6e",
   "metadata": {},
   "outputs": [],
   "source": [
    "def swap(newlist):\n",
    "    newlist[0],newlist[1] =newlist[1],newlist[0]\n",
    "    return newlist\n",
    "newlist =[12,35,9,15]\n",
    "print(swaplist(newlist))"
   ]
  }
 ],
 "metadata": {
  "kernelspec": {
   "display_name": "Python 3 (ipykernel)",
   "language": "python",
   "name": "python3"
  },
  "language_info": {
   "codemirror_mode": {
    "name": "ipython",
    "version": 3
   },
   "file_extension": ".py",
   "mimetype": "text/x-python",
   "name": "python",
   "nbconvert_exporter": "python",
   "pygments_lexer": "ipython3",
   "version": "3.10.9"
  }
 },
 "nbformat": 4,
 "nbformat_minor": 5
}
